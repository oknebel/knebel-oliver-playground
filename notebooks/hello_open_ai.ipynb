{
 "cells": [
  {
   "cell_type": "code",
   "execution_count": 1,
   "id": "0a3dec1d-752f-4ffd-85d9-66e8bcea11fa",
   "metadata": {},
   "outputs": [],
   "source": [
    "import os\n",
    "import openai\n",
    "from openai import OpenAI\n",
    "client = OpenAI(\n",
    "  api_key=os.environ[\"OPENAI_API_KEY\"],\n",
    "  organization='org-lnb5KXM4i94reSt9qWtk8jf3',\n",
    "  project='proj_y7JxRTvypeKNbr3ca6U4SbxB',\n",
    ")"
   ]
  },
  {
   "cell_type": "code",
   "execution_count": 2,
   "id": "7d4479e1",
   "metadata": {},
   "outputs": [
    {
     "name": "stdout",
     "output_type": "stream",
     "text": [
      "SyncPage[Model](data=[Model(id='gpt-4-1106-preview', created=1698957206, object='model', owned_by='system'), Model(id='chatgpt-4o-latest', created=1723515131, object='model', owned_by='system'), Model(id='tts-1-hd-1106', created=1699053533, object='model', owned_by='system'), Model(id='tts-1-hd', created=1699046015, object='model', owned_by='system'), Model(id='dall-e-2', created=1698798177, object='model', owned_by='system'), Model(id='text-embedding-3-large', created=1705953180, object='model', owned_by='system'), Model(id='gpt-4-0125-preview', created=1706037612, object='model', owned_by='system'), Model(id='gpt-3.5-turbo-0125', created=1706048358, object='model', owned_by='system'), Model(id='gpt-4o-mini', created=1721172741, object='model', owned_by='system'), Model(id='gpt-4o-mini-2024-07-18', created=1721172717, object='model', owned_by='system'), Model(id='gpt-4-turbo-preview', created=1706037777, object='model', owned_by='system'), Model(id='gpt-3.5-turbo', created=1677610602, object='model', owned_by='openai'), Model(id='tts-1-1106', created=1699053241, object='model', owned_by='system'), Model(id='whisper-1', created=1677532384, object='model', owned_by='openai-internal'), Model(id='gpt-4-turbo', created=1712361441, object='model', owned_by='system'), Model(id='tts-1', created=1681940951, object='model', owned_by='openai-internal'), Model(id='gpt-4-turbo-2024-04-09', created=1712601677, object='model', owned_by='system'), Model(id='gpt-4o-2024-08-06', created=1722814719, object='model', owned_by='system'), Model(id='gpt-3.5-turbo-16k', created=1683758102, object='model', owned_by='openai-internal'), Model(id='text-embedding-3-small', created=1705948997, object='model', owned_by='system'), Model(id='gpt-3.5-turbo-1106', created=1698959748, object='model', owned_by='system'), Model(id='gpt-3.5-turbo-instruct-0914', created=1694122472, object='model', owned_by='system'), Model(id='gpt-4-0613', created=1686588896, object='model', owned_by='openai'), Model(id='gpt-4', created=1687882411, object='model', owned_by='openai'), Model(id='gpt-3.5-turbo-instruct', created=1692901427, object='model', owned_by='system'), Model(id='babbage-002', created=1692634615, object='model', owned_by='system'), Model(id='davinci-002', created=1692634301, object='model', owned_by='system'), Model(id='dall-e-3', created=1698785189, object='model', owned_by='system'), Model(id='gpt-4o', created=1715367049, object='model', owned_by='system'), Model(id='gpt-4o-2024-05-13', created=1715368132, object='model', owned_by='system'), Model(id='text-embedding-ada-002', created=1671217299, object='model', owned_by='openai-internal')], object='list')\n",
      "gpt-4-1106-preview\n",
      "chatgpt-4o-latest\n",
      "tts-1-hd-1106\n",
      "tts-1-hd\n",
      "dall-e-2\n",
      "text-embedding-3-large\n",
      "gpt-4-0125-preview\n",
      "gpt-3.5-turbo-0125\n",
      "gpt-4o-mini\n",
      "gpt-4o-mini-2024-07-18\n",
      "gpt-4-turbo-preview\n",
      "gpt-3.5-turbo\n",
      "tts-1-1106\n",
      "whisper-1\n",
      "gpt-4-turbo\n",
      "tts-1\n",
      "gpt-4-turbo-2024-04-09\n",
      "gpt-4o-2024-08-06\n",
      "gpt-3.5-turbo-16k\n",
      "text-embedding-3-small\n",
      "gpt-3.5-turbo-1106\n",
      "gpt-3.5-turbo-instruct-0914\n",
      "gpt-4-0613\n",
      "gpt-4\n",
      "gpt-3.5-turbo-instruct\n",
      "babbage-002\n",
      "davinci-002\n",
      "dall-e-3\n",
      "gpt-4o\n",
      "gpt-4o-2024-05-13\n",
      "text-embedding-ada-002\n"
     ]
    }
   ],
   "source": [
    "models = client.models.list()\n",
    "print(models)\n",
    "\n",
    "for m in client.models.list():\n",
    "    print(m.id)"
   ]
  },
  {
   "cell_type": "code",
   "execution_count": 3,
   "id": "90578d7e-c1d1-43e5-9885-744dd57ec8ad",
   "metadata": {},
   "outputs": [
    {
     "name": "stdout",
     "output_type": "stream",
     "text": [
      "Why couldn't the bicycle stand up by itself?\n"
     ]
    }
   ],
   "source": [
    "\n",
    "\n",
    "completion = client.chat.completions.create(\n",
    "  model=\"gpt-3.5-turbo\",\n",
    "  messages=[\n",
    "    {\"role\": \"user\", \"content\": \"tell a good joke in the form of a question.\"}\n",
    "  ]\n",
    ")\n",
    "\n",
    "print(completion.choices[0].message.content)"
   ]
  },
  {
   "cell_type": "code",
   "execution_count": 7,
   "id": "59d467eb-6aeb-4e07-b1b2-dec362f564e4",
   "metadata": {},
   "outputs": [
    {
     "name": "stdout",
     "output_type": "stream",
     "text": [
      "**In Code’s Embrace: The Dance of Refactoring**\n",
      "\n",
      "In the world of code, where logic weaves,  \n",
      "A tapestry vibrant, where simplicity grieves.  \n",
      "Lines upon lines, in a glorious mess,  \n",
      "Craft the foundation, but oh, the stress!  \n",
      "\n",
      "For time marches on, and with it, our needs,  \n",
      "And what once was genius now barely succeeds.  \n",
      "The laughter of bugs, like shadows they leer,  \n",
      "As tangled old functions breed chaos and fear.  \n",
      "\n",
      "But fear not, dear coder, for daylight’s at hand,  \n",
      "With the art of refactoring, take a firm stand.  \n",
      "To redefine purpose, to elevate grace,  \n",
      "Transforming the clutter into a warm space.  \n",
      "\n",
      "Like sculptors of stone, we chisel away,  \n",
      "Unraveling logic that led us astray.  \n",
      "We find what is core, and extract what is pure,  \n",
      "Building anew, for the future to ensure.  \n",
      "\n",
      "Rename those odd variables, give them a name,  \n",
      "Let their essence shine bright, let them claim their fame.  \n",
      "Split up the functions that spiral and twist,  \n",
      "Make clear their intention—don't let them be missed.  \n",
      "\n",
      "Reduce all redundancies, consolidate thought,  \n",
      "With patterns and principles, let clarity be sought.  \n",
      "For every small change is a step on the way,  \n",
      "To elegance rooted in a vibrant array.  \n",
      "\n",
      "In the heart of our systems, where complexity reigns,  \n",
      "Refactoring helps us untangle the chains.  \n",
      "It's not just a chore; it’s a chance to create,  \n",
      "A codebase that’s ready for future’s great fate.  \n",
      "\n",
      "So raise high your keyboards, let’s celebrate,  \n",
      "The beauty in coding, the joy, and the rate.  \n",
      "For when we refactor, we breathe life anew,  \n",
      "In the dance of our logic, we find joy that is true.  \n"
     ]
    }
   ],
   "source": [
    "completion = client.chat.completions.create(\n",
    "  model=\"gpt-4o-mini\",\n",
    "  messages=[\n",
    "    {\"role\": \"system\", \"content\": \"You are a poetic assistant, skilled in explaining complex programming concepts with creative flair.\"},\n",
    "    {\"role\": \"user\", \"content\": \"Compose a poem that explains the concept of refactoring in programming.\"}\n",
    "  ]\n",
    ")\n",
    "\n",
    "print(completion.choices[0].message.content)"
   ]
  },
  {
   "cell_type": "code",
   "execution_count": 6,
   "id": "ef661623-d722-4dd3-9e02-89a99d3c4663",
   "metadata": {},
   "outputs": [
    {
     "name": "stdout",
     "output_type": "stream",
     "text": [
      "In the realm of code, where logic aligns,  \n",
      "A programmer toils, crafting patterns divine.  \n",
      "Yet amidst the beauty, as functions entwine,  \n",
      "Lies lurking confusion, in languages fine.  \n",
      "\n",
      "For as projects grow wild, like vines in the sun,  \n",
      "Old methods and structures can become quite a run.  \n",
      "Duplication sprawls, with bugs on the rise,  \n",
      "It's time for refactoring, let clarity prize.  \n",
      "\n",
      "With passion and purpose, the coder must tread,  \n",
      "To tease out the chaos, where syntax once bled.  \n",
      "Structure and style, with elegance merge,  \n",
      "Transforming the chaos, like waves on the verge.  \n",
      "\n",
      "First comes the analysis, the thoughts start to spin,  \n",
      "What's tangled, what's faulty, where to begin?  \n",
      "Extracting the functions, like gems from the ore,  \n",
      "While preserving the logic, we’ll craft something more.  \n",
      "\n",
      "Variables renamed, with meaning they’ll shine,  \n",
      "Comments to guide, a true treasure divine.  \n",
      "Redundant once lurking, now gracefully shed,  \n",
      "Each line tells a story, each word carefully bred.  \n",
      "\n",
      "Through tests and through trials, the codebase will glow,  \n",
      "With clearer intentions and pathways to flow.  \n",
      "For what was a labyrinth, complex and stark,  \n",
      "Is now a fine garden, with pathways and sparks.  \n",
      "\n",
      "So cherish the journey, where beauty is sought,  \n",
      "Refactoring's art, a melody wrought.  \n",
      "For in every small change, with passion it sings,  \n",
      "A symphony coded, where clarity springs.\n"
     ]
    }
   ],
   "source": [
    "completion = client.chat.completions.create(\n",
    "  model=\"gpt-4o-mini\",\n",
    "  messages=[\n",
    "    {\"role\": \"system\", \"content\": \"You are a poetic assistant, skilled in explaining complex programming concepts with creative flair.\"},\n",
    "    {\"role\": \"user\", \"content\": \"Compose a poem that explains the concept of refactoring in programming.\"}\n",
    "  ]\n",
    ")\n",
    "\n",
    "print(completion.choices[0].message.content)"
   ]
  },
  {
   "cell_type": "markdown",
   "id": "aa6b1c09-7b44-4318-8af2-c20052370a5f",
   "metadata": {},
   "source": [
    "# Another Example"
   ]
  },
  {
   "cell_type": "code",
   "execution_count": null,
   "id": "78481465",
   "metadata": {},
   "outputs": [],
   "source": []
  },
  {
   "cell_type": "code",
   "execution_count": null,
   "id": "09e10ab2",
   "metadata": {},
   "outputs": [],
   "source": []
  },
  {
   "cell_type": "code",
   "execution_count": null,
   "id": "bf5fdda2-2f20-44c9-bf54-a7f20790b893",
   "metadata": {},
   "outputs": [],
   "source": [
    "def llm_response(prompt):\n",
    "\n",
    "    completion = client.chat.completions.create(\n",
    "      model=\"gpt-3.5-turbo\",\n",
    "      messages=[\n",
    "        {\"role\": \"user\", \"content\":prompt}\n",
    "      ]\n",
    "    )\n",
    "    return completion.choices[0].message.content"
   ]
  },
  {
   "cell_type": "code",
   "execution_count": null,
   "id": "995c1303-c6bf-457b-9b3a-dd9c4d885335",
   "metadata": {},
   "outputs": [],
   "source": [
    "all_reviews = [\n",
    "    'The mochi is excellent!',\n",
    "    'Best soup dumplings I have ever eaten.',\n",
    "    'Not worth the 3 month wait for a reservation.',\n",
    "    'The colorful tablecloths made me smile!',\n",
    "    'The pasta was cold.'\n",
    "]\n",
    "\n",
    "all_reviews"
   ]
  },
  {
   "cell_type": "code",
   "execution_count": null,
   "id": "1628ad7c-bcaa-4334-9288-7ad5e08b5245",
   "metadata": {},
   "outputs": [],
   "source": [
    "all_sentiments = []\n",
    "for review in all_reviews:\n",
    "    prompt = f'''\n",
    "        Classify the following review \n",
    "        as having either a positive or\n",
    "        negative sentiment. State your answer\n",
    "        as a single word, either \"positive\" or\n",
    "        \"negative\":\n",
    "\n",
    "        {review}\n",
    "        '''\n",
    "    response = llm_response(prompt)\n",
    "    all_sentiments.append(response)\n",
    "\n",
    "all_sentiments"
   ]
  },
  {
   "cell_type": "code",
   "execution_count": null,
   "id": "011339ef-9088-496f-8611-b71f371a9750",
   "metadata": {},
   "outputs": [],
   "source": [
    "num_positive = 0\n",
    "num_negative = 0\n",
    "for sentiment in all_sentiments:\n",
    "    if sentiment == 'positive':\n",
    "        num_positive += 1\n",
    "    elif sentiment == 'negative':\n",
    "        num_negative += 1\n",
    "print(f\"There are {num_positive} positive and {num_negative} negative reviews.\")"
   ]
  }
 ],
 "metadata": {
  "kernelspec": {
   "display_name": "Python 3 (ipykernel)",
   "language": "python",
   "name": "python3"
  },
  "language_info": {
   "codemirror_mode": {
    "name": "ipython",
    "version": 3
   },
   "file_extension": ".py",
   "mimetype": "text/x-python",
   "name": "python",
   "nbconvert_exporter": "python",
   "pygments_lexer": "ipython3",
   "version": "3.11.9"
  }
 },
 "nbformat": 4,
 "nbformat_minor": 5
}
